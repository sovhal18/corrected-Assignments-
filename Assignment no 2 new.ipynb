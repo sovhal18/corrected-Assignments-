{
 "cells": [
  {
   "cell_type": "code",
   "execution_count": 1,
   "id": "0d9fbb2a",
   "metadata": {
    "ExecuteTime": {
     "end_time": "2023-03-08T09:36:23.046294Z",
     "start_time": "2023-03-08T09:36:21.081974Z"
    }
   },
   "outputs": [],
   "source": [
    "import pandas as pd \n",
    "import matplotlib.pyplot as plt \n",
    "from scipy import stats\n",
    "\n",
    "from scipy.stats import norm\n",
    "import numpy as np"
   ]
  },
  {
   "cell_type": "markdown",
   "id": "0b4ec2ee",
   "metadata": {},
   "source": [
    "Q.1"
   ]
  },
  {
   "cell_type": "code",
   "execution_count": 9,
   "id": "f632830c",
   "metadata": {
    "ExecuteTime": {
     "end_time": "2023-03-08T17:11:15.719337Z",
     "start_time": "2023-03-08T17:11:15.711330Z"
    }
   },
   "outputs": [],
   "source": [
    "df=pd.read_csv('newset1.csv')"
   ]
  },
  {
   "cell_type": "code",
   "execution_count": 10,
   "id": "7c6a28e5",
   "metadata": {
    "ExecuteTime": {
     "end_time": "2023-03-08T17:11:17.738850Z",
     "start_time": "2023-03-08T17:11:17.721586Z"
    }
   },
   "outputs": [
    {
     "data": {
      "text/html": [
       "<div>\n",
       "<style scoped>\n",
       "    .dataframe tbody tr th:only-of-type {\n",
       "        vertical-align: middle;\n",
       "    }\n",
       "\n",
       "    .dataframe tbody tr th {\n",
       "        vertical-align: top;\n",
       "    }\n",
       "\n",
       "    .dataframe thead th {\n",
       "        text-align: right;\n",
       "    }\n",
       "</style>\n",
       "<table border=\"1\" class=\"dataframe\">\n",
       "  <thead>\n",
       "    <tr style=\"text-align: right;\">\n",
       "      <th></th>\n",
       "      <th>Name of company</th>\n",
       "      <th>Measure X</th>\n",
       "      <th>MX</th>\n",
       "    </tr>\n",
       "  </thead>\n",
       "  <tbody>\n",
       "    <tr>\n",
       "      <th>0</th>\n",
       "      <td>Allied Signal</td>\n",
       "      <td>24.23%</td>\n",
       "      <td>0.002423</td>\n",
       "    </tr>\n",
       "    <tr>\n",
       "      <th>1</th>\n",
       "      <td>Bankers Trust</td>\n",
       "      <td>25.53%</td>\n",
       "      <td>0.002553</td>\n",
       "    </tr>\n",
       "    <tr>\n",
       "      <th>2</th>\n",
       "      <td>General Mills</td>\n",
       "      <td>25.41%</td>\n",
       "      <td>0.002541</td>\n",
       "    </tr>\n",
       "    <tr>\n",
       "      <th>3</th>\n",
       "      <td>ITT Industries</td>\n",
       "      <td>24.14%</td>\n",
       "      <td>0.002414</td>\n",
       "    </tr>\n",
       "    <tr>\n",
       "      <th>4</th>\n",
       "      <td>J.P.Morgan &amp; Co.</td>\n",
       "      <td>29.62%</td>\n",
       "      <td>0.002962</td>\n",
       "    </tr>\n",
       "    <tr>\n",
       "      <th>5</th>\n",
       "      <td>Lehman Brothers</td>\n",
       "      <td>28.25%</td>\n",
       "      <td>0.002825</td>\n",
       "    </tr>\n",
       "    <tr>\n",
       "      <th>6</th>\n",
       "      <td>Marriott</td>\n",
       "      <td>25.81%</td>\n",
       "      <td>0.002581</td>\n",
       "    </tr>\n",
       "    <tr>\n",
       "      <th>7</th>\n",
       "      <td>MCI</td>\n",
       "      <td>24.39%</td>\n",
       "      <td>0.002439</td>\n",
       "    </tr>\n",
       "    <tr>\n",
       "      <th>8</th>\n",
       "      <td>Merrill Lynch</td>\n",
       "      <td>40.26%</td>\n",
       "      <td>0.004026</td>\n",
       "    </tr>\n",
       "    <tr>\n",
       "      <th>9</th>\n",
       "      <td>Microsoft</td>\n",
       "      <td>32.95%</td>\n",
       "      <td>0.003295</td>\n",
       "    </tr>\n",
       "    <tr>\n",
       "      <th>10</th>\n",
       "      <td>Morgan Stanley</td>\n",
       "      <td>91.36%</td>\n",
       "      <td>0.009136</td>\n",
       "    </tr>\n",
       "    <tr>\n",
       "      <th>11</th>\n",
       "      <td>Sun Microsystems</td>\n",
       "      <td>25.99%</td>\n",
       "      <td>0.002599</td>\n",
       "    </tr>\n",
       "    <tr>\n",
       "      <th>12</th>\n",
       "      <td>Travelers</td>\n",
       "      <td>39.42%</td>\n",
       "      <td>0.003942</td>\n",
       "    </tr>\n",
       "    <tr>\n",
       "      <th>13</th>\n",
       "      <td>US Airways</td>\n",
       "      <td>26.71%</td>\n",
       "      <td>0.002671</td>\n",
       "    </tr>\n",
       "    <tr>\n",
       "      <th>14</th>\n",
       "      <td>Warner-Lambert</td>\n",
       "      <td>35.00%</td>\n",
       "      <td>0.003500</td>\n",
       "    </tr>\n",
       "  </tbody>\n",
       "</table>\n",
       "</div>"
      ],
      "text/plain": [
       "     Name of company Measure X        MX\n",
       "0      Allied Signal    24.23%  0.002423\n",
       "1      Bankers Trust    25.53%  0.002553\n",
       "2      General Mills    25.41%  0.002541\n",
       "3     ITT Industries    24.14%  0.002414\n",
       "4   J.P.Morgan & Co.    29.62%  0.002962\n",
       "5    Lehman Brothers    28.25%  0.002825\n",
       "6           Marriott    25.81%  0.002581\n",
       "7                MCI    24.39%  0.002439\n",
       "8      Merrill Lynch    40.26%  0.004026\n",
       "9          Microsoft    32.95%  0.003295\n",
       "10    Morgan Stanley    91.36%  0.009136\n",
       "11  Sun Microsystems    25.99%  0.002599\n",
       "12         Travelers    39.42%  0.003942\n",
       "13        US Airways    26.71%  0.002671\n",
       "14    Warner-Lambert    35.00%  0.003500"
      ]
     },
     "execution_count": 10,
     "metadata": {},
     "output_type": "execute_result"
    }
   ],
   "source": [
    "df"
   ]
  },
  {
   "cell_type": "code",
   "execution_count": 11,
   "id": "9bf44d2b",
   "metadata": {
    "ExecuteTime": {
     "end_time": "2023-03-08T17:11:23.496844Z",
     "start_time": "2023-03-08T17:11:23.478752Z"
    }
   },
   "outputs": [
    {
     "data": {
      "text/html": [
       "<div>\n",
       "<style scoped>\n",
       "    .dataframe tbody tr th:only-of-type {\n",
       "        vertical-align: middle;\n",
       "    }\n",
       "\n",
       "    .dataframe tbody tr th {\n",
       "        vertical-align: top;\n",
       "    }\n",
       "\n",
       "    .dataframe thead th {\n",
       "        text-align: right;\n",
       "    }\n",
       "</style>\n",
       "<table border=\"1\" class=\"dataframe\">\n",
       "  <thead>\n",
       "    <tr style=\"text-align: right;\">\n",
       "      <th></th>\n",
       "      <th>MX</th>\n",
       "    </tr>\n",
       "  </thead>\n",
       "  <tbody>\n",
       "    <tr>\n",
       "      <th>count</th>\n",
       "      <td>15.000000</td>\n",
       "    </tr>\n",
       "    <tr>\n",
       "      <th>mean</th>\n",
       "      <td>0.003327</td>\n",
       "    </tr>\n",
       "    <tr>\n",
       "      <th>std</th>\n",
       "      <td>0.001695</td>\n",
       "    </tr>\n",
       "    <tr>\n",
       "      <th>min</th>\n",
       "      <td>0.002414</td>\n",
       "    </tr>\n",
       "    <tr>\n",
       "      <th>25%</th>\n",
       "      <td>0.002547</td>\n",
       "    </tr>\n",
       "    <tr>\n",
       "      <th>50%</th>\n",
       "      <td>0.002671</td>\n",
       "    </tr>\n",
       "    <tr>\n",
       "      <th>75%</th>\n",
       "      <td>0.003398</td>\n",
       "    </tr>\n",
       "    <tr>\n",
       "      <th>max</th>\n",
       "      <td>0.009136</td>\n",
       "    </tr>\n",
       "  </tbody>\n",
       "</table>\n",
       "</div>"
      ],
      "text/plain": [
       "              MX\n",
       "count  15.000000\n",
       "mean    0.003327\n",
       "std     0.001695\n",
       "min     0.002414\n",
       "25%     0.002547\n",
       "50%     0.002671\n",
       "75%     0.003398\n",
       "max     0.009136"
      ]
     },
     "execution_count": 11,
     "metadata": {},
     "output_type": "execute_result"
    }
   ],
   "source": [
    "df.describe()"
   ]
  },
  {
   "cell_type": "code",
   "execution_count": 12,
   "id": "e31172bf",
   "metadata": {
    "ExecuteTime": {
     "end_time": "2023-03-08T17:11:33.077120Z",
     "start_time": "2023-03-08T17:11:33.045269Z"
    }
   },
   "outputs": [
    {
     "name": "stdout",
     "output_type": "stream",
     "text": [
      "<class 'pandas.core.frame.DataFrame'>\n",
      "RangeIndex: 15 entries, 0 to 14\n",
      "Data columns (total 3 columns):\n",
      " #   Column           Non-Null Count  Dtype  \n",
      "---  ------           --------------  -----  \n",
      " 0   Name of company  15 non-null     object \n",
      " 1   Measure X        15 non-null     object \n",
      " 2   MX               15 non-null     float64\n",
      "dtypes: float64(1), object(2)\n",
      "memory usage: 488.0+ bytes\n"
     ]
    }
   ],
   "source": [
    "df.info()"
   ]
  },
  {
   "cell_type": "code",
   "execution_count": 13,
   "id": "5e1558bb",
   "metadata": {
    "ExecuteTime": {
     "end_time": "2023-03-08T17:11:41.932954Z",
     "start_time": "2023-03-08T17:11:41.912598Z"
    }
   },
   "outputs": [
    {
     "name": "stderr",
     "output_type": "stream",
     "text": [
      "C:\\Users\\SAGAR\\AppData\\Local\\Temp\\ipykernel_28532\\3698961737.py:1: FutureWarning: Dropping of nuisance columns in DataFrame reductions (with 'numeric_only=None') is deprecated; in a future version this will raise TypeError.  Select only valid columns before calling the reduction.\n",
      "  df.mean()\n"
     ]
    },
    {
     "data": {
      "text/plain": [
       "MX    0.003327\n",
       "dtype: float64"
      ]
     },
     "execution_count": 13,
     "metadata": {},
     "output_type": "execute_result"
    }
   ],
   "source": [
    "df.mean()"
   ]
  },
  {
   "cell_type": "code",
   "execution_count": 14,
   "id": "2063ebf9",
   "metadata": {
    "ExecuteTime": {
     "end_time": "2023-03-08T17:11:48.715454Z",
     "start_time": "2023-03-08T17:11:48.559250Z"
    }
   },
   "outputs": [
    {
     "data": {
      "text/plain": [
       "{'whiskers': [<matplotlib.lines.Line2D at 0x182dd10d3a0>,\n",
       "  <matplotlib.lines.Line2D at 0x182dde1d4f0>],\n",
       " 'caps': [<matplotlib.lines.Line2D at 0x182ddd7bbb0>,\n",
       "  <matplotlib.lines.Line2D at 0x182ddd5ad90>],\n",
       " 'boxes': [<matplotlib.lines.Line2D at 0x182dde1d670>],\n",
       " 'medians': [<matplotlib.lines.Line2D at 0x182ddd5a8b0>],\n",
       " 'fliers': [<matplotlib.lines.Line2D at 0x182ddd5a3a0>],\n",
       " 'means': []}"
      ]
     },
     "execution_count": 14,
     "metadata": {},
     "output_type": "execute_result"
    },
    {
     "data": {
      "image/png": "[encoded data removed]",
      "text/plain": [
       "<Figure size 1000x300 with 1 Axes>"
      ]
     },
     "metadata": {},
     "output_type": "display_data"
    }
   ],
   "source": [
    "plt.figure(figsize=(10,3))\n",
    "plt.boxplot(df['MX'], vert=False) "
   ]
  },
  {
   "cell_type": "code",
   "execution_count": 15,
   "id": "47d6bd87",
   "metadata": {
    "ExecuteTime": {
     "end_time": "2023-03-08T17:11:57.897174Z",
     "start_time": "2023-03-08T17:11:57.879688Z"
    }
   },
   "outputs": [
    {
     "name": "stderr",
     "output_type": "stream",
     "text": [
      "C:\\Users\\SAGAR\\AppData\\Local\\Temp\\ipykernel_28532\\1568254755.py:1: FutureWarning: Dropping of nuisance columns in DataFrame reductions (with 'numeric_only=None') is deprecated; in a future version this will raise TypeError.  Select only valid columns before calling the reduction.\n",
      "  df.var()\n"
     ]
    },
    {
     "data": {
      "text/plain": [
       "MX    0.000003\n",
       "dtype: float64"
      ]
     },
     "execution_count": 15,
     "metadata": {},
     "output_type": "execute_result"
    }
   ],
   "source": [
    "df.var()"
   ]
  },
  {
   "cell_type": "code",
   "execution_count": 16,
   "id": "f2683a5d",
   "metadata": {
    "ExecuteTime": {
     "end_time": "2023-03-08T17:12:03.911059Z",
     "start_time": "2023-03-08T17:12:03.895523Z"
    }
   },
   "outputs": [],
   "source": [
    "from math import comb"
   ]
  },
  {
   "cell_type": "code",
   "execution_count": 17,
   "id": "6010d7c3",
   "metadata": {
    "ExecuteTime": {
     "end_time": "2023-03-08T17:12:08.857513Z",
     "start_time": "2023-03-08T17:12:08.838452Z"
    }
   },
   "outputs": [
    {
     "data": {
      "text/plain": [
       "184756"
      ]
     },
     "execution_count": 17,
     "metadata": {},
     "output_type": "execute_result"
    }
   ],
   "source": [
    "comb(20,10)"
   ]
  },
  {
   "cell_type": "code",
   "execution_count": 19,
   "id": "2a3ee7ba",
   "metadata": {
    "ExecuteTime": {
     "end_time": "2023-03-08T17:14:03.022821Z",
     "start_time": "2023-03-08T17:14:03.005866Z"
    }
   },
   "outputs": [],
   "source": [
    "df2=pd.read_csv('df2.csv')"
   ]
  },
  {
   "cell_type": "code",
   "execution_count": 20,
   "id": "36fd433d",
   "metadata": {
    "ExecuteTime": {
     "end_time": "2023-03-08T17:14:08.345210Z",
     "start_time": "2023-03-08T17:14:08.328191Z"
    }
   },
   "outputs": [
    {
     "data": {
      "text/html": [
       "<div>\n",
       "<style scoped>\n",
       "    .dataframe tbody tr th:only-of-type {\n",
       "        vertical-align: middle;\n",
       "    }\n",
       "\n",
       "    .dataframe tbody tr th {\n",
       "        vertical-align: top;\n",
       "    }\n",
       "\n",
       "    .dataframe thead th {\n",
       "        text-align: right;\n",
       "    }\n",
       "</style>\n",
       "<table border=\"1\" class=\"dataframe\">\n",
       "  <thead>\n",
       "    <tr style=\"text-align: right;\">\n",
       "      <th></th>\n",
       "      <th>x</th>\n",
       "      <th>P(x)</th>\n",
       "    </tr>\n",
       "  </thead>\n",
       "  <tbody>\n",
       "    <tr>\n",
       "      <th>0</th>\n",
       "      <td>-2,000</td>\n",
       "      <td>0.1</td>\n",
       "    </tr>\n",
       "    <tr>\n",
       "      <th>1</th>\n",
       "      <td>-1,000</td>\n",
       "      <td>0.1</td>\n",
       "    </tr>\n",
       "    <tr>\n",
       "      <th>2</th>\n",
       "      <td>0</td>\n",
       "      <td>0.2</td>\n",
       "    </tr>\n",
       "    <tr>\n",
       "      <th>3</th>\n",
       "      <td>1000</td>\n",
       "      <td>0.2</td>\n",
       "    </tr>\n",
       "    <tr>\n",
       "      <th>4</th>\n",
       "      <td>2000</td>\n",
       "      <td>0.3</td>\n",
       "    </tr>\n",
       "    <tr>\n",
       "      <th>5</th>\n",
       "      <td>3000</td>\n",
       "      <td>0.1</td>\n",
       "    </tr>\n",
       "  </tbody>\n",
       "</table>\n",
       "</div>"
      ],
      "text/plain": [
       "        x  P(x)\n",
       "0  -2,000   0.1\n",
       "1  -1,000   0.1\n",
       "2       0   0.2\n",
       "3    1000   0.2\n",
       "4    2000   0.3\n",
       "5    3000   0.1"
      ]
     },
     "execution_count": 20,
     "metadata": {},
     "output_type": "execute_result"
    }
   ],
   "source": [
    "df2"
   ]
  },
  {
   "cell_type": "markdown",
   "id": "ded96216",
   "metadata": {},
   "source": [
    "set-2"
   ]
  },
  {
   "cell_type": "code",
   "execution_count": 21,
   "id": "4d362e6b",
   "metadata": {
    "ExecuteTime": {
     "end_time": "2023-03-08T17:14:37.280900Z",
     "start_time": "2023-03-08T17:14:37.265847Z"
    }
   },
   "outputs": [
    {
     "data": {
      "text/plain": [
       "0.26598552904870054"
      ]
     },
     "execution_count": 21,
     "metadata": {},
     "output_type": "execute_result"
    }
   ],
   "source": [
    "from scipy import stats# set-2 Q1\n",
    "1-stats.norm.cdf(60,55,8)"
   ]
  },
  {
   "cell_type": "code",
   "execution_count": 22,
   "id": "b7a7843c",
   "metadata": {
    "ExecuteTime": {
     "end_time": "2023-03-08T17:14:43.762413Z",
     "start_time": "2023-03-08T17:14:43.747320Z"
    }
   },
   "outputs": [
    {
     "data": {
      "text/plain": [
       "0.15865525393145707"
      ]
     },
     "execution_count": 22,
     "metadata": {},
     "output_type": "execute_result"
    }
   ],
   "source": [
    "Q1=1-stats.norm.cdf(44,38,6)# Q2 (i&ii)\n",
    "Q1"
   ]
  },
  {
   "cell_type": "code",
   "execution_count": 23,
   "id": "4e794c1c",
   "metadata": {
    "ExecuteTime": {
     "end_time": "2023-03-08T17:14:49.682168Z",
     "start_time": "2023-03-08T17:14:49.666125Z"
    }
   },
   "outputs": [
    {
     "data": {
      "text/plain": [
       "0.8413447460685429"
      ]
     },
     "execution_count": 23,
     "metadata": {},
     "output_type": "execute_result"
    }
   ],
   "source": [
    "Q1=stats.norm.cdf(44,38,6)\n",
    "Q1"
   ]
  },
  {
   "cell_type": "code",
   "execution_count": 24,
   "id": "a6fd4def",
   "metadata": {
    "ExecuteTime": {
     "end_time": "2023-03-08T17:14:54.938980Z",
     "start_time": "2023-03-08T17:14:54.923367Z"
    }
   },
   "outputs": [
    {
     "data": {
      "text/plain": [
       "0.5"
      ]
     },
     "execution_count": 24,
     "metadata": {},
     "output_type": "execute_result"
    }
   ],
   "source": [
    "Q2=stats.norm.cdf(38,38,6)\n",
    "Q2"
   ]
  },
  {
   "cell_type": "code",
   "execution_count": 25,
   "id": "2c64475f",
   "metadata": {
    "ExecuteTime": {
     "end_time": "2023-03-08T17:15:01.373689Z",
     "start_time": "2023-03-08T17:15:01.363385Z"
    }
   },
   "outputs": [
    {
     "data": {
      "text/plain": [
       "0.3413447460685429"
      ]
     },
     "execution_count": 25,
     "metadata": {},
     "output_type": "execute_result"
    }
   ],
   "source": [
    "Q=Q1-Q2\n",
    "Q"
   ]
  },
  {
   "cell_type": "code",
   "execution_count": 26,
   "id": "4b089f18",
   "metadata": {
    "ExecuteTime": {
     "end_time": "2023-03-08T17:15:07.503811Z",
     "start_time": "2023-03-08T17:15:07.488786Z"
    }
   },
   "outputs": [
    {
     "data": {
      "text/plain": [
       "36.484487890347154"
      ]
     },
     "execution_count": 26,
     "metadata": {},
     "output_type": "execute_result"
    }
   ],
   "source": [
    "400*stats.norm.cdf(30,38,6)"
   ]
  },
  {
   "cell_type": "markdown",
   "id": "9722141f",
   "metadata": {},
   "source": [
    "Q4"
   ]
  },
  {
   "cell_type": "code",
   "execution_count": 27,
   "id": "e9bedd60",
   "metadata": {
    "ExecuteTime": {
     "end_time": "2023-03-08T17:15:22.469138Z",
     "start_time": "2023-03-08T17:15:22.446895Z"
    }
   },
   "outputs": [
    {
     "data": {
      "text/plain": [
       "(48.48341392902199, 151.516586070978)"
      ]
     },
     "execution_count": 27,
     "metadata": {},
     "output_type": "execute_result"
    }
   ],
   "source": [
    "stats.norm.interval(0.99,100,20)"
   ]
  },
  {
   "cell_type": "markdown",
   "id": "624c1c55",
   "metadata": {},
   "source": [
    "Q5"
   ]
  },
  {
   "cell_type": "code",
   "execution_count": 28,
   "id": "3de68441",
   "metadata": {
    "ExecuteTime": {
     "end_time": "2023-03-08T17:15:37.765299Z",
     "start_time": "2023-03-08T17:15:37.758366Z"
    }
   },
   "outputs": [],
   "source": [
    "## A (The Range for 95% probability for the annual profit of the company)"
   ]
  },
  {
   "cell_type": "code",
   "execution_count": 29,
   "id": "fcdf654e",
   "metadata": {
    "ExecuteTime": {
     "end_time": "2023-03-08T17:15:45.413296Z",
     "start_time": "2023-03-08T17:15:45.398490Z"
    }
   },
   "outputs": [
    {
     "data": {
      "text/plain": [
       "(99.00810347848784, 980.9918965215122)"
      ]
     },
     "execution_count": 29,
     "metadata": {},
     "output_type": "execute_result"
    }
   ],
   "source": [
    "stats.norm.interval(0.95,540,225)\n"
   ]
  },
  {
   "cell_type": "code",
   "execution_count": 30,
   "id": "80f39317",
   "metadata": {
    "ExecuteTime": {
     "end_time": "2023-03-08T17:15:52.788893Z",
     "start_time": "2023-03-08T17:15:52.775951Z"
    }
   },
   "outputs": [],
   "source": [
    "## C ( the two divisions has a larger probability of making a loss in a given year)"
   ]
  },
  {
   "cell_type": "code",
   "execution_count": 31,
   "id": "de71f431",
   "metadata": {
    "ExecuteTime": {
     "end_time": "2023-03-08T17:16:00.777180Z",
     "start_time": "2023-03-08T17:16:00.756877Z"
    }
   },
   "outputs": [
    {
     "data": {
      "text/plain": [
       "0.0477903522728147"
      ]
     },
     "execution_count": 31,
     "metadata": {},
     "output_type": "execute_result"
    }
   ],
   "source": [
    "X1=stats.norm.cdf(0,5,3)\n",
    "X1"
   ]
  },
  {
   "cell_type": "code",
   "execution_count": 32,
   "id": "9b4823bf",
   "metadata": {
    "ExecuteTime": {
     "end_time": "2023-03-08T17:16:07.278760Z",
     "start_time": "2023-03-08T17:16:07.261155Z"
    }
   },
   "outputs": [
    {
     "data": {
      "text/plain": [
       "0.040059156863817086"
      ]
     },
     "execution_count": 32,
     "metadata": {},
     "output_type": "execute_result"
    }
   ],
   "source": [
    "X2=stats.norm.cdf(0,7,4)\n",
    "X2"
   ]
  },
  {
   "cell_type": "code",
   "execution_count": 33,
   "id": "ae706c47",
   "metadata": {
    "ExecuteTime": {
     "end_time": "2023-03-08T17:16:18.362933Z",
     "start_time": "2023-03-08T17:16:18.349916Z"
    }
   },
   "outputs": [
    {
     "data": {
      "text/plain": [
       "169.875"
      ]
     },
     "execution_count": 33,
     "metadata": {},
     "output_type": "execute_result"
    }
   ],
   "source": [
    "X=540+(-1.645)*225\n",
    "X\n"
   ]
  },
  {
   "cell_type": "code",
   "execution_count": 34,
   "id": "3cf848c9",
   "metadata": {
    "ExecuteTime": {
     "end_time": "2023-03-08T17:16:27.654439Z",
     "start_time": "2023-03-08T17:16:27.636861Z"
    }
   },
   "outputs": [
    {
     "data": {
      "text/plain": [
       "170"
      ]
     },
     "execution_count": 34,
     "metadata": {},
     "output_type": "execute_result"
    }
   ],
   "source": [
    "X=round(169.875)\n",
    "X"
   ]
  },
  {
   "cell_type": "markdown",
   "id": "dcc975ad",
   "metadata": {},
   "source": [
    "Set 3"
   ]
  },
  {
   "cell_type": "code",
   "execution_count": 35,
   "id": "298c22e6",
   "metadata": {
    "ExecuteTime": {
     "end_time": "2023-03-08T17:16:45.934881Z",
     "start_time": "2023-03-08T17:16:45.926588Z"
    }
   },
   "outputs": [
    {
     "data": {
      "text/plain": [
       "(53.04003601545995, 56.95996398454005)"
      ]
     },
     "execution_count": 35,
     "metadata": {},
     "output_type": "execute_result"
    }
   ],
   "source": [
    "stats.norm.interval(0.95,55)"
   ]
  },
  {
   "cell_type": "code",
   "execution_count": 36,
   "id": "281afe73",
   "metadata": {
    "ExecuteTime": {
     "end_time": "2023-03-08T17:16:50.738934Z",
     "start_time": "2023-03-08T17:16:50.724663Z"
    }
   },
   "outputs": [
    {
     "data": {
      "text/plain": [
       "0.5"
      ]
     },
     "execution_count": 36,
     "metadata": {},
     "output_type": "execute_result"
    }
   ],
   "source": [
    "stats.norm.cdf(45<X<55)"
   ]
  },
  {
   "cell_type": "code",
   "execution_count": 37,
   "id": "f0bf1041",
   "metadata": {
    "ExecuteTime": {
     "end_time": "2023-03-08T17:16:55.953113Z",
     "start_time": "2023-03-08T17:16:55.936597Z"
    }
   },
   "outputs": [
    {
     "data": {
      "text/plain": [
       "0.0"
      ]
     },
     "execution_count": 37,
     "metadata": {},
     "output_type": "execute_result"
    }
   ],
   "source": [
    "stats.norm.ppf(0.5)"
   ]
  },
  {
   "cell_type": "markdown",
   "id": "154f1bbc",
   "metadata": {},
   "source": [
    "Set 4"
   ]
  },
  {
   "cell_type": "markdown",
   "id": "385ae4d0",
   "metadata": {},
   "source": [
    "Q2"
   ]
  },
  {
   "cell_type": "code",
   "execution_count": 38,
   "id": "b7a3f272",
   "metadata": {
    "ExecuteTime": {
     "end_time": "2023-03-08T17:17:21.078118Z",
     "start_time": "2023-03-08T17:17:21.061990Z"
    }
   },
   "outputs": [],
   "source": [
    "## given -n=100 mean=50 sd=40"
   ]
  },
  {
   "cell_type": "code",
   "execution_count": 39,
   "id": "15dab335",
   "metadata": {
    "ExecuteTime": {
     "end_time": "2023-03-08T17:17:26.119881Z",
     "start_time": "2023-03-08T17:17:26.100324Z"
    }
   },
   "outputs": [
    {
     "data": {
      "text/plain": [
       "-1.25"
      ]
     },
     "execution_count": 39,
     "metadata": {},
     "output_type": "execute_result"
    }
   ],
   "source": [
    "z1=(45-50)/(40/100**0.5)\n",
    "z1"
   ]
  },
  {
   "cell_type": "code",
   "execution_count": 40,
   "id": "b768255b",
   "metadata": {
    "ExecuteTime": {
     "end_time": "2023-03-08T17:17:30.906377Z",
     "start_time": "2023-03-08T17:17:30.893144Z"
    }
   },
   "outputs": [
    {
     "data": {
      "text/plain": [
       "1.25"
      ]
     },
     "execution_count": 40,
     "metadata": {},
     "output_type": "execute_result"
    }
   ],
   "source": [
    "z2=(55-50)/(40/100**0.5)\n",
    "z2"
   ]
  },
  {
   "cell_type": "code",
   "execution_count": 41,
   "id": "db238882",
   "metadata": {
    "ExecuteTime": {
     "end_time": "2023-03-08T17:17:36.481787Z",
     "start_time": "2023-03-08T17:17:36.459211Z"
    }
   },
   "outputs": [
    {
     "data": {
      "text/plain": [
       "0.7887004526662893"
      ]
     },
     "execution_count": 41,
     "metadata": {},
     "output_type": "execute_result"
    }
   ],
   "source": [
    "stats.norm.cdf(1.25)-stats.norm.cdf(-1.25)"
   ]
  },
  {
   "cell_type": "code",
   "execution_count": 42,
   "id": "026db9a2",
   "metadata": {
    "ExecuteTime": {
     "end_time": "2023-03-08T17:17:41.876332Z",
     "start_time": "2023-03-08T17:17:41.859256Z"
    }
   },
   "outputs": [
    {
     "data": {
      "text/plain": [
       "0.2112995473337107"
      ]
     },
     "execution_count": 42,
     "metadata": {},
     "output_type": "execute_result"
    }
   ],
   "source": [
    "1-0.7887004526662893"
   ]
  },
  {
   "cell_type": "code",
   "execution_count": 43,
   "id": "d9e1946b",
   "metadata": {
    "ExecuteTime": {
     "end_time": "2023-03-08T17:17:48.564729Z",
     "start_time": "2023-03-08T17:17:48.544536Z"
    }
   },
   "outputs": [
    {
     "data": {
      "text/plain": [
       "1.2166082842078454e-31"
      ]
     },
     "execution_count": 43,
     "metadata": {},
     "output_type": "execute_result"
    }
   ],
   "source": [
    "stats.norm.cdf(-1.645,10)"
   ]
  },
  {
   "cell_type": "code",
   "execution_count": 44,
   "id": "f2bf2235",
   "metadata": {
    "ExecuteTime": {
     "end_time": "2023-03-08T17:17:54.493691Z",
     "start_time": "2023-03-08T17:17:54.482588Z"
    }
   },
   "outputs": [
    {
     "data": {
      "text/plain": [
       "243.7305749697557"
      ]
     },
     "execution_count": 44,
     "metadata": {},
     "output_type": "execute_result"
    }
   ],
   "source": [
    "z2=(55-50)/(40/100**1.645)\n",
    "z2"
   ]
  },
  {
   "cell_type": "code",
   "execution_count": null,
   "id": "5bceaadb",
   "metadata": {},
   "outputs": [],
   "source": []
  }
 ],
 "metadata": {
  "kernelspec": {
   "display_name": "Python 3 (ipykernel)",
   "language": "python",
   "name": "python3"
  },
  "language_info": {
   "codemirror_mode": {
    "name": "ipython",
    "version": 3
   },
   "file_extension": ".py",
   "mimetype": "text/x-python",
   "name": "python",
   "nbconvert_exporter": "python",
   "pygments_lexer": "ipython3",
   "version": "3.9.13"
  }
 },
 "nbformat": 4,
 "nbformat_minor": 5
}
